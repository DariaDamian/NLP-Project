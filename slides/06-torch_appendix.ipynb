{
 "cells": [
  {
   "cell_type": "markdown",
   "metadata": {
    "slideshow": {
     "slide_type": "slide"
    }
   },
   "source": [
    "# Appendix (for the Lab) - From LogReg to a Feedforward Neural Network in Pytorch"
   ]
  },
  {
   "cell_type": "markdown",
   "metadata": {
    "slideshow": {
     "slide_type": "subslide"
    }
   },
   "source": [
    "# Neural network Learning\n",
    "\n",
    "### Lets have a look at a simpler example - First generate some data\n"
   ]
  },
  {
   "cell_type": "code",
   "execution_count": 31,
   "metadata": {
    "slideshow": {
     "slide_type": "fragment"
    }
   },
   "outputs": [
    {
     "data": {
      "text/html": [
       "<div>\n",
       "<style scoped>\n",
       "    .dataframe tbody tr th:only-of-type {\n",
       "        vertical-align: middle;\n",
       "    }\n",
       "\n",
       "    .dataframe tbody tr th {\n",
       "        vertical-align: top;\n",
       "    }\n",
       "\n",
       "    .dataframe thead th {\n",
       "        text-align: right;\n",
       "    }\n",
       "</style>\n",
       "<table border=\"1\" class=\"dataframe\">\n",
       "  <thead>\n",
       "    <tr style=\"text-align: right;\">\n",
       "      <th></th>\n",
       "      <th>x1</th>\n",
       "      <th>x2</th>\n",
       "      <th>label</th>\n",
       "    </tr>\n",
       "  </thead>\n",
       "  <tbody>\n",
       "    <tr>\n",
       "      <th>0</th>\n",
       "      <td>-1.081637</td>\n",
       "      <td>-0.634803</td>\n",
       "      <td>0</td>\n",
       "    </tr>\n",
       "    <tr>\n",
       "      <th>1</th>\n",
       "      <td>0.939852</td>\n",
       "      <td>0.862057</td>\n",
       "      <td>0</td>\n",
       "    </tr>\n",
       "    <tr>\n",
       "      <th>2</th>\n",
       "      <td>-1.206902</td>\n",
       "      <td>-0.287912</td>\n",
       "      <td>0</td>\n",
       "    </tr>\n",
       "    <tr>\n",
       "      <th>3</th>\n",
       "      <td>0.620225</td>\n",
       "      <td>0.324054</td>\n",
       "      <td>0</td>\n",
       "    </tr>\n",
       "    <tr>\n",
       "      <th>4</th>\n",
       "      <td>0.136594</td>\n",
       "      <td>0.852036</td>\n",
       "      <td>0</td>\n",
       "    </tr>\n",
       "  </tbody>\n",
       "</table>\n",
       "</div>"
      ],
      "text/plain": [
       "         x1        x2  label\n",
       "0 -1.081637 -0.634803      0\n",
       "1  0.939852  0.862057      0\n",
       "2 -1.206902 -0.287912      0\n",
       "3  0.620225  0.324054      0\n",
       "4  0.136594  0.852036      0"
      ]
     },
     "execution_count": 31,
     "metadata": {},
     "output_type": "execute_result"
    }
   ],
   "source": [
    "import pandas as pd\n",
    "import numpy as np\n",
    "\n",
    "num_observations = 1000\n",
    "\n",
    "x_neg = np.random.multivariate_normal([0, 0], [[1, .75],[.75, 1]], num_observations)\n",
    "x_pos = np.random.multivariate_normal([1, 4], [[1, .75],[.75, 1]], num_observations)\n",
    "\n",
    "simulated_separableish_features = np.vstack((x_neg, x_pos)).astype(np.float32)\n",
    "simulated_labels = np.array(np.hstack((np.zeros(num_observations),\n",
    "                              np.ones(num_observations)))).astype(int)\n",
    "\n",
    "data = pd.DataFrame({'x1': np.concatenate([x_neg[:,0],x_pos[:,0]]),\n",
    "                     'x2': np.concatenate([x_neg[:,1],x_pos[:,1]]),\n",
    "                     'label': simulated_labels})\n",
    "\n",
    "data.head()"
   ]
  },
  {
   "cell_type": "code",
   "execution_count": 32,
   "metadata": {
    "scrolled": true,
    "slideshow": {
     "slide_type": "subslide"
    }
   },
   "outputs": [
    {
     "data": {
      "image/png": "[encoded data removed]",
      "text/plain": [
       "<Figure size 432x288 with 1 Axes>"
      ]
     },
     "metadata": {
      "needs_background": "light"
     },
     "output_type": "display_data"
    }
   ],
   "source": [
    "# plot the data\n",
    "fig, ax = plt.subplots()\n",
    "\n",
    "data.query('label == 1').plot(kind='scatter', x='x1', y='x2', ax=ax, color='b')\n",
    "data.query('label == 0').plot(kind='scatter', x='x1', y='x2', ax=ax, color='r');"
   ]
  },
  {
   "cell_type": "code",
   "execution_count": 33,
   "metadata": {
    "slideshow": {
     "slide_type": "skip"
    }
   },
   "outputs": [],
   "source": [
    "## plot utility functions from AJ and DH\n",
    "def get_y(x, w1, w2, bias):\n",
    "    '''\n",
    "    compute y value for specific x, given the weights and bias\n",
    "    (helper function for decision boundary)\n",
    "    '''\n",
    "    return (((-1 * x * w1) - bias) / w2)\n",
    "\n",
    "\n",
    "def plot_decision_boundary(model, ax, alpha=0.1, color='black', thickness=1):\n",
    "    '''\n",
    "    plot the decision boundary\n",
    "    '''\n",
    "    bias, w1, w2 = model\n",
    "    x_min = -5\n",
    "    x_max = 5\n",
    "    ax.plot([x_min, x_max], \n",
    "            [get_y(x_min, w1, w2, bias), get_y(x_max, w1, w2, bias)], \n",
    "            'k-', alpha=alpha, c=color, lw=thickness)"
   ]
  },
  {
   "cell_type": "markdown",
   "metadata": {
    "slideshow": {
     "slide_type": "subslide"
    }
   },
   "source": [
    "### How to Find the Optimum?\n",
    "\n",
    "In practice one of the following:\n",
    "* implement both optimisation and gradient calculation\n",
    "* use off-the-shelf gradient descent library, provide the gradients (Example: [factorie](http://factorie.cs.umass.edu/), [scipy](https://www.scipy.org/))\n",
    "* You have a back-propagation framework (such as Pytorch, Keras, Theano, DyNet, Tensorflow) \n"
   ]
  },
  {
   "cell_type": "markdown",
   "metadata": {
    "slideshow": {
     "slide_type": "slide"
    }
   },
   "source": [
    "## Logistic Regression in Pytorch\n"
   ]
  },
  {
   "cell_type": "code",
   "execution_count": 34,
   "metadata": {
    "slideshow": {
     "slide_type": "skip"
    }
   },
   "outputs": [
    {
     "data": {
      "text/plain": [
       "(1600, 400)"
      ]
     },
     "execution_count": 34,
     "metadata": {},
     "output_type": "execute_result"
    }
   ],
   "source": [
    "from sklearn.model_selection import train_test_split\n",
    "\n",
    "X_train, X_test, y_train, y_test = train_test_split(simulated_separableish_features, simulated_labels, test_size=0.2)\n",
    "len(X_train), len(X_test)"
   ]
  },
  {
   "cell_type": "code",
   "execution_count": 35,
   "metadata": {
    "slideshow": {
     "slide_type": "subslide"
    }
   },
   "outputs": [],
   "source": [
    "import torch\n",
    "import torch.nn as nn\n",
    "import torch.nn.functional as F\n",
    "\n",
    "# Define a logistic Regression model in Pytorch\n",
    "class LogisticRegression(torch.nn.Module):\n",
    "    def __init__(self, input_dim, output_dim):\n",
    "        super(LogisticRegression, self).__init__()\n",
    "        self.linear = nn.Linear(input_dim, output_dim)\n",
    "        self.sigmoid = nn.Sigmoid()\n",
    "\n",
    "    def forward(self, x):\n",
    "        out = self.linear(x)\n",
    "        return self.sigmoid(out)"
   ]
  },
  {
   "cell_type": "code",
   "execution_count": 36,
   "metadata": {
    "slideshow": {
     "slide_type": "skip"
    }
   },
   "outputs": [
    {
     "name": "stdout",
     "output_type": "stream",
     "text": [
      "Training LogReg model\n",
      "loss epoch 0: 0.5595623463543598 train accuracy: 0.655\n",
      "loss epoch 10: 0.15720261821850726 train accuracy: 0.9725\n",
      "loss epoch 20: 0.09961681993689125 train accuracy: 0.98625\n",
      "loss epoch 30: 0.07666593815102715 train accuracy: 0.990625\n",
      "loss epoch 40: 0.06410376931587962 train accuracy: 0.991875\n",
      "tensor([[-1.2575],\n",
      "        [ 2.3391]]) tensor([-3.5495])\n",
      "Finished Training\n"
     ]
    },
    {
     "data": {
      "image/png": "[encoded data removed]",
      "text/plain": [
       "<Figure size 432x288 with 1 Axes>"
      ]
     },
     "metadata": {
      "needs_background": "light"
     },
     "output_type": "display_data"
    }
   ],
   "source": [
    "## train the logistic regression model in Pytorch\n",
    "import torch.optim as optim\n",
    "\n",
    "## define the input and model\n",
    "input_dim=2\n",
    "output_dim=1\n",
    "\n",
    "logReg = LogisticRegression(input_dim, output_dim)\n",
    "\n",
    "## define loss and train model\n",
    "loss_function = nn.BCELoss() # binary cross entropy loss\n",
    "optimizer = optim.SGD(logReg.parameters(), lr=0.001)\n",
    "\n",
    "device = 'cuda' if torch.cuda.is_available() else 'cpu'\n",
    "num_train = len(X_train)\n",
    "\n",
    "print('Training LogReg model')\n",
    "\n",
    "for epoch in range(50):  # loop over the dataset for several epochs\n",
    "\n",
    "    running_loss = 0.0\n",
    "    running_acc = 0.0\n",
    "    \n",
    "    for j, (x_train_input, y_label) in enumerate(zip(X_train, y_train)):\n",
    "        # convert to torch tensors\n",
    "        x = torch.from_numpy(x_train_input).float().to(device)\n",
    "        y = torch.tensor([y_label], dtype=torch.float32).to(device)\n",
    "       \n",
    "        # forward pass and loss calculation\n",
    "        y_hat = logReg(x)\n",
    "        loss = loss_function(y_hat, y)\n",
    "        acc = torch.eq(y_hat.round(), y).float().mean() # accuracy (trick to convert boolean)\n",
    "        \n",
    "        #  zero the parameter gradients before the update\n",
    "        optimizer.zero_grad()\n",
    "        loss.backward()\n",
    "        optimizer.step()\n",
    "        running_loss += loss.item()\n",
    "        running_acc += acc.item()\n",
    "    if epoch % 10 == 0:\n",
    "        print(\"loss epoch {}: {} train accuracy: {}\".format(epoch, running_loss/num_train, running_acc/num_train))\n",
    "    running_loss = 0.0\n",
    "    running_acc = 0.0\n",
    "\n",
    "W = logReg.state_dict()['linear.weight'].t()\n",
    "b = logReg.state_dict()['linear.bias'].t()\n",
    "print(W,b)\n",
    "print('Finished Training')\n",
    "# plot the data and decision boundary\n",
    "fig, ax = plt.subplots()\n",
    "\n",
    "weights=[b,W[0],W[1]]\n",
    "data.query('label == 1').plot(kind='scatter', x='x1', y='x2', ax=ax, color='b')\n",
    "data.query('label == 0').plot(kind='scatter', x='x1', y='x2', ax=ax, color='r');\n",
    "plot_decision_boundary(weights, alpha=1.0, color='green', thickness=2, ax=ax)\n",
    "\n"
   ]
  },
  {
   "cell_type": "markdown",
   "metadata": {
    "slideshow": {
     "slide_type": "slide"
    }
   },
   "source": [
    "## A Feedforward Neural Network (FFNN) in Pytorch\n"
   ]
  },
  {
   "cell_type": "code",
   "execution_count": 37,
   "metadata": {
    "slideshow": {
     "slide_type": "subslide"
    }
   },
   "outputs": [],
   "source": [
    "# Feedforward neural network in Pytorch\n",
    "import torch.nn as nn\n",
    "import torch.nn.functional as F\n",
    "\n",
    "class FFNeuralNet(nn.Module):\n",
    "    def __init__(self, input_dim, output_dim):\n",
    "        super(FFNeuralNet, self).__init__()\n",
    "        self.hidden = nn.Linear(input_dim, 15)\n",
    "        self.activation = nn.ReLU()\n",
    "        self.output_layer = nn.Linear(15, output_dim)\n",
    "        self.sigmoid = nn.Sigmoid()\n",
    "\n",
    "    def forward(self, x):\n",
    "        #return torch.sigmoid(self.output_layer(torch.relu(self.hidden(x))))\n",
    "        hidden = self.hidden(x)\n",
    "        relu = self.activation(hidden)\n",
    "        out = self.output_layer(relu)\n",
    "        return self.sigmoid(out)"
   ]
  },
  {
   "cell_type": "code",
   "execution_count": 38,
   "metadata": {
    "slideshow": {
     "slide_type": "subslide"
    }
   },
   "outputs": [],
   "source": [
    "import torch\n",
    "import torch.optim as optim\n",
    "\n",
    "def train_network(model, X_train, y_train):\n",
    "    loss_function = nn.BCELoss() # binary cross entropy loss\n",
    "    optimizer = optim.SGD(model.parameters(), lr=0.001)\n",
    "    losses = []\n",
    "    accuracy = []\n",
    "    num_train = len(X_train)\n",
    "\n",
    "    for epoch in range(50):  # loop over the dataset for several epochs\n",
    "\n",
    "        running_loss = 0.0\n",
    "        running_acc = 0.0\n",
    "\n",
    "        for j, (x_train_input, y_label) in enumerate(zip(X_train, y_train)):\n",
    "            # convert to torch tensors\n",
    "            x = torch.from_numpy(x_train_input).float()\n",
    "            y = torch.tensor([y_label], dtype=torch.float32)\n",
    "\n",
    "            # forward pass and loss calculation\n",
    "            y_hat = model(x)\n",
    "            loss = loss_function(y_hat, y)\n",
    "            acc = torch.eq(y_hat.round(), y).float().mean() # accuracy (trick to convert boolean)\n",
    "\n",
    "            #  zero the parameter gradients before the update\n",
    "            optimizer.zero_grad()\n",
    "            loss.backward()\n",
    "            optimizer.step()\n",
    "\n",
    "            running_loss += loss.item()\n",
    "            running_acc += acc.item()\n",
    "\n",
    "        losses.append(running_loss/num_train)\n",
    "        accuracy.append(running_acc/num_train)\n",
    "        if epoch % 10 == 0:\n",
    "            print(\"loss epoch {}: {} train accuracy: {}\".format(epoch, running_loss/num_train, running_acc/num_train))\n",
    "        running_loss = 0.0\n",
    "        running_acc = 0.0\n",
    "\n",
    "    print('Finished Training')\n",
    "    #neural_net.state_dict()\n",
    "    return losses, accuracy"
   ]
  },
  {
   "cell_type": "code",
   "execution_count": 39,
   "metadata": {
    "slideshow": {
     "slide_type": "subslide"
    }
   },
   "outputs": [
    {
     "name": "stdout",
     "output_type": "stream",
     "text": [
      "loss epoch 0: 0.5194920204370282 train accuracy: 0.766875\n",
      "loss epoch 10: 0.07104942966005183 train accuracy: 0.986875\n",
      "loss epoch 20: 0.03447008174711755 train accuracy: 0.993125\n",
      "loss epoch 30: 0.025610196642093967 train accuracy: 0.991875\n",
      "loss epoch 40: 0.021521408645365378 train accuracy: 0.993125\n",
      "Finished Training\n"
     ]
    }
   ],
   "source": [
    "## create instance of FFNN\n",
    "\n",
    "input_dim=2\n",
    "output_dim=1\n",
    "\n",
    "neural_net = FFNeuralNet(input_dim, output_dim)\n",
    "losses, accuracy = train_network(neural_net, X_train, y_train)"
   ]
  },
  {
   "cell_type": "code",
   "execution_count": 40,
   "metadata": {
    "slideshow": {
     "slide_type": "subslide"
    }
   },
   "outputs": [
    {
     "data": {
      "text/plain": [
       "Text(0, 0.5, 'loss')"
      ]
     },
     "execution_count": 40,
     "metadata": {},
     "output_type": "execute_result"
    },
    {
     "data": {
      "image/png": "[encoded data removed]",
      "text/plain": [
       "<Figure size 432x288 with 1 Axes>"
      ]
     },
     "metadata": {
      "needs_background": "light"
     },
     "output_type": "display_data"
    }
   ],
   "source": [
    "#plotting the loss\n",
    "plt.plot(losses)\n",
    "plt.title('Loss vs Epochs')\n",
    "plt.xlabel('Epochs')\n",
    "plt.ylabel('loss')"
   ]
  },
  {
   "cell_type": "code",
   "execution_count": 41,
   "metadata": {
    "slideshow": {
     "slide_type": "subslide"
    }
   },
   "outputs": [
    {
     "data": {
      "text/plain": [
       "Text(0, 0.5, 'accuracy')"
      ]
     },
     "execution_count": 41,
     "metadata": {},
     "output_type": "execute_result"
    },
    {
     "data": {
      "image/png": "[encoded data removed]",
      "text/plain": [
       "<Figure size 432x288 with 1 Axes>"
      ]
     },
     "metadata": {
      "needs_background": "light"
     },
     "output_type": "display_data"
    }
   ],
   "source": [
    "plt.plot(accuracy)\n",
    "plt.title('Accuracy vs Epochs')\n",
    "plt.xlabel('Epochs')\n",
    "plt.ylabel('accuracy')"
   ]
  },
  {
   "cell_type": "markdown",
   "metadata": {
    "slideshow": {
     "slide_type": "slide"
    }
   },
   "source": [
    "## A non-linear example"
   ]
  },
  {
   "cell_type": "code",
   "execution_count": 42,
   "metadata": {
    "slideshow": {
     "slide_type": "subslide"
    }
   },
   "outputs": [
    {
     "data": {
      "image/png": "[encoded data removed]",
      "text/plain": [
       "<Figure size 432x288 with 1 Axes>"
      ]
     },
     "metadata": {
      "needs_background": "light"
     },
     "output_type": "display_data"
    }
   ],
   "source": [
    "from sklearn.datasets import make_moons\n",
    "import pandas as pd\n",
    "import numpy as np\n",
    "\n",
    "import torch\n",
    "from torch.autograd import Variable\n",
    "import torch.nn as nn\n",
    "from torch.utils.data import Dataset, DataLoader\n",
    "import torch.nn.functional as F\n",
    "\n",
    "def to_categorical(y, num_classes):\n",
    "    \"\"\"1-hot encodes a tensor\"\"\"\n",
    "    return np.eye(num_classes, dtype='uint8')[y]\n",
    "\n",
    "X, y = make_moons(n_samples=1000, noise=0.2)\n",
    "data = pd.DataFrame({'label': y, \"x1\": X[:,0], \"x2\": X[:,1] })\n",
    "\n",
    "fig, ax = plt.subplots()\n",
    "\n",
    "data.query('label == 1').plot(kind='scatter', x='x1', y='x2', ax=ax, color='b')\n",
    "data.query('label == 0').plot(kind='scatter', x='x1', y='x2', ax=ax, color='r');"
   ]
  },
  {
   "cell_type": "code",
   "execution_count": 43,
   "metadata": {
    "slideshow": {
     "slide_type": "skip"
    }
   },
   "outputs": [],
   "source": [
    "X_train, X_test, y_train, y_test = train_test_split(X, y, test_size=0.2)\n"
   ]
  },
  {
   "cell_type": "code",
   "execution_count": 44,
   "metadata": {
    "slideshow": {
     "slide_type": "subslide"
    }
   },
   "outputs": [
    {
     "name": "stdout",
     "output_type": "stream",
     "text": [
      "loss epoch 0: 0.6042514875158668 train accuracy: 0.69875\n",
      "loss epoch 10: 0.40388370989821853 train accuracy: 0.82\n",
      "loss epoch 20: 0.35220247112913056 train accuracy: 0.84625\n",
      "loss epoch 30: 0.32668091861880383 train accuracy: 0.8525\n",
      "loss epoch 40: 0.3108467461622786 train accuracy: 0.8575\n",
      "Finished Training\n"
     ]
    }
   ],
   "source": [
    "logReg = LogisticRegression(input_dim, output_dim)\n",
    "losses, accuracy = train_network(logReg, X_train, y_train)"
   ]
  },
  {
   "cell_type": "code",
   "execution_count": 45,
   "metadata": {
    "slideshow": {
     "slide_type": "subslide"
    }
   },
   "outputs": [
    {
     "name": "stdout",
     "output_type": "stream",
     "text": [
      "loss epoch 0: 0.6657484888285399 train accuracy: 0.58875\n",
      "loss epoch 10: 0.36976771752582865 train accuracy: 0.835\n",
      "loss epoch 20: 0.29888346549880224 train accuracy: 0.86875\n",
      "loss epoch 30: 0.2705167405452812 train accuracy: 0.87875\n",
      "loss epoch 40: 0.25940367570321543 train accuracy: 0.88875\n",
      "Finished Training\n"
     ]
    }
   ],
   "source": [
    "neural_net = FFNeuralNet(input_dim, output_dim)\n",
    "losses, accuracy = train_network(neural_net, X_train, y_train)"
   ]
  },
  {
   "cell_type": "markdown",
   "metadata": {
    "slideshow": {
     "slide_type": "slide"
    }
   },
   "source": [
    "### References\n",
    "* Yoav Goldberg's tutorial: [A Primer on Neural Network Models for Natural Language Processing](http://arxiv.org/abs/1510.00726)\n",
    "* Jurafsky & Martin, [Speech and Language Processing (Third Edition)](https://web.stanford.edu/~jurafsky/slp3/ed3book.pdf): Chapter 7 (up until 7.4)\n",
    "\n",
    "Further references:\n",
    "* Yoav Goldberg's book: [Neural Network Methods for Natural Language Processing](https://www.morganclaypoolpublishers.com/catalog_Orig/product_info.php?products_id=1056), McClaypool, 2017.\n",
    "* More details in [Michael Nielsen's book chapter 1](http://neuralnetworksanddeeplearning.com/chap1.html)\n",
    "* [Thumbs up? Sentiment Classification using Machine Learning\n",
    "Techniques](http://www.cs.cornell.edu/home/llee/papers/sentiment.pdf), Bo Pang, Lillian Lee and Shivakumar Vaithyanathan, EMNLP 2002\n",
    "* [Andrew Ng's course notes](http://cs229.stanford.edu/notes/cs229-notes1.pdf)\n",
    "* [Andrew Ng's video session on Logistic Regression](https://www.youtube.com/watch?v=LLx4diIP83I)\n",
    "* [Nick Becker's post on Logistic Regression from scratch (uses batch stochastic descent)](https://github.com/beckernick/logistic_regression_from_scratch/blob/master/logistic_regression_scratch.ipynb)"
   ]
  }
 ],
 "metadata": {
  "celltoolbar": "Slideshow",
  "kernelspec": {
   "display_name": "Python 3",
   "language": "python",
   "name": "python3"
  },
  "language_info": {
   "codemirror_mode": {
    "name": "ipython",
    "version": 3
   },
   "file_extension": ".py",
   "mimetype": "text/x-python",
   "name": "python",
   "nbconvert_exporter": "python",
   "pygments_lexer": "ipython3",
   "version": "3.10.7"
  }
 },
 "nbformat": 4,
 "nbformat_minor": 2
}
